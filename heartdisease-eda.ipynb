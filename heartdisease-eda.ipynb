{
 "cells": [
  {
   "cell_type": "code",
   "execution_count": 1,
   "id": "6be71d90",
   "metadata": {
    "_cell_guid": "b1076dfc-b9ad-4769-8c92-a6c4dae69d19",
    "_uuid": "8f2839f25d086af736a60e9eeb907d3b93b6e0e5",
    "execution": {
     "iopub.execute_input": "2022-01-21T14:05:29.740624Z",
     "iopub.status.busy": "2022-01-21T14:05:29.739855Z",
     "iopub.status.idle": "2022-01-21T14:05:29.753099Z",
     "shell.execute_reply": "2022-01-21T14:05:29.753728Z",
     "shell.execute_reply.started": "2022-01-21T11:56:34.792473Z"
    },
    "papermill": {
     "duration": 0.098532,
     "end_time": "2022-01-21T14:05:29.754033",
     "exception": false,
     "start_time": "2022-01-21T14:05:29.655501",
     "status": "completed"
    },
    "tags": []
   },
   "outputs": [
    {
     "name": "stdout",
     "output_type": "stream",
     "text": [
      "/kaggle/input/heart-failure-prediction/heart.csv\n"
     ]
    }
   ],
   "source": [
    "# This Python 3 environment comes with many helpful analytics libraries installed\n",
    "# It is defined by the kaggle/python Docker image: https://github.com/kaggle/docker-python\n",
    "# For example, here's several helpful packages to load\n",
    "\n",
    "import numpy as np # linear algebra\n",
    "import pandas as pd # data processing, CSV file I/O (e.g. pd.read_csv)\n",
    "\n",
    "# Input data files are available in the read-only \"../input/\" directory\n",
    "# For example, running this (by clicking run or pressing Shift+Enter) will list all files under the input directory\n",
    "\n",
    "import os\n",
    "for dirname, _, filenames in os.walk('/kaggle/input'):\n",
    "    for filename in filenames:\n",
    "        print(os.path.join(dirname, filename))\n",
    "\n",
    "# You can write up to 20GB to the current directory (/kaggle/working/) that gets preserved as output when you create a version using \"Save & Run All\" \n",
    "# You can also write temporary files to /kaggle/temp/, but they won't be saved outside of the current session"
   ]
  },
  {
   "cell_type": "markdown",
   "id": "a5dabd90",
   "metadata": {
    "papermill": {
     "duration": 0.050812,
     "end_time": "2022-01-21T14:05:29.855826",
     "exception": false,
     "start_time": "2022-01-21T14:05:29.805014",
     "status": "completed"
    },
    "tags": []
   },
   "source": [
    "# ***HEART FAILURE PREDICTION***"
   ]
  },
  {
   "cell_type": "markdown",
   "id": "19232880",
   "metadata": {
    "papermill": {
     "duration": 0.048936,
     "end_time": "2022-01-21T14:05:29.953830",
     "exception": false,
     "start_time": "2022-01-21T14:05:29.904894",
     "status": "completed"
    },
    "tags": []
   },
   "source": [
    "<img src=\"https://images.medicinenet.com/images/slideshow/heart-disease-visual-guide-s2-heart-attack.jpg\">  "
   ]
  },
  {
   "cell_type": "markdown",
   "id": "999f0ac2",
   "metadata": {
    "papermill": {
     "duration": 0.04959,
     "end_time": "2022-01-21T14:05:30.052604",
     "exception": false,
     "start_time": "2022-01-21T14:05:30.003014",
     "status": "completed"
    },
    "tags": []
   },
   "source": [
    "<h1 style=\"font-size:40px;font-family:\"><i>Introduction</i></h1>"
   ]
  },
  {
   "cell_type": "markdown",
   "id": "210e2acf",
   "metadata": {
    "papermill": {
     "duration": 0.049131,
     "end_time": "2022-01-21T14:05:30.151281",
     "exception": false,
     "start_time": "2022-01-21T14:05:30.102150",
     "status": "completed"
    },
    "tags": []
   },
   "source": [
    "<p style=\"color:blue;font-size:21px;\">Heart failure, sometimes called congestive heart failure, means the heart isn’t pumping blood as well as it should. Heart failure does not mean that the heart stops beating — that’s a common misperception. Instead, the heart keeps working, but the body’s need for blood and oxygen isn’t being met.</p>\n",
    "\n",
    "<p style=\"color:blue;font-size:21px;\">Your body depends on the heart’s pumping action to deliver oxygen- and nutrient-rich blood to the body’s cells. When the cells are nourished properly, the body can function normally. With heart failure, the weakened heart can’t supply the cells with enough blood. This results in fatigue and shortness of breath and some people have coughing. Everyday activities such as walking, climbing stairs or carrying groceries can become very difficult.</p>\n",
    "\n",
    "<p style=\"color:blue;font-size:21px;\">Heart failure is a serious condition, and usually there’s no cure. But many people with heart failure lead a full, enjoyable life when the condition is managed with heart failure medications and healthy lifestyle changes. It’s also helpful to have the support of family and friends who understand your condition.</p>"
   ]
  },
  {
   "cell_type": "markdown",
   "id": "ea132a22",
   "metadata": {
    "papermill": {
     "duration": 0.048716,
     "end_time": "2022-01-21T14:05:30.248886",
     "exception": false,
     "start_time": "2022-01-21T14:05:30.200170",
     "status": "completed"
    },
    "tags": []
   },
   "source": [
    "<h1 style=\"font-size:40px;font-family:\"><i>Objective</i></h1>"
   ]
  },
  {
   "cell_type": "markdown",
   "id": "cb848ce1",
   "metadata": {
    "papermill": {
     "duration": 0.048605,
     "end_time": "2022-01-21T14:05:30.346518",
     "exception": false,
     "start_time": "2022-01-21T14:05:30.297913",
     "status": "completed"
    },
    "tags": []
   },
   "source": [
    " <p style=\"color:green;font-size:20px\">\n",
    "    In this notebook I will perform Exploratory Data Analysis on the Heart Failure Prediction Dataset which is a collection of 5 seperate dataset. The source of the data are as follows:</p>\n",
    "\n",
    "<p style=\"color:green;font-size:20px\">Cleveland: 303 observations</p>\n",
    "<p style=\"color:green;font-size:20px\">Hungarian: 294 observations</p>\n",
    "<p style=\"color:green;font-size:20px\">Switzerland: 123 observations</p>\n",
    "<p style=\"color:green;font-size:20px\">Long Beach VA: 200 observations</p>\n",
    "<p style=\"color:green;font-size:20px\">Stalog (Heart) Data Set: 270 </p>\n",
    "<p style=\"color:green;font-size:20px\">observations</p>\n",
    "<p style=\"color:green;font-size:20px\">Total: 1190 observations</p>\n",
    "<p style=\"color:green;font-size:20px\">Duplicated: 272 observations</p>\n",
    "<p style=\"color:green;font-size:20px\">We will mainly focus our observations on those patients only who \n",
    "    have any <b>HeartDisease</b></p>"
   ]
  },
  {
   "cell_type": "markdown",
   "id": "9037c820",
   "metadata": {
    "papermill": {
     "duration": 0.049646,
     "end_time": "2022-01-21T14:05:30.445988",
     "exception": false,
     "start_time": "2022-01-21T14:05:30.396342",
     "status": "completed"
    },
    "tags": []
   },
   "source": [
    "<h1 style=\"font-size:40px;font-family:\"><i>Table of Contents</i></h1>"
   ]
  },
  {
   "cell_type": "markdown",
   "id": "f2247b79",
   "metadata": {
    "papermill": {
     "duration": 0.048815,
     "end_time": "2022-01-21T14:05:30.544027",
     "exception": false,
     "start_time": "2022-01-21T14:05:30.495212",
     "status": "completed"
    },
    "tags": []
   },
   "source": [
    "* [1. IMPORTING LIBRARIES](#1)\n",
    "* [2.BASIC INFORMATION ABOUT THE DATASET](#2)\n",
    "* [3.CHECK FOR NULL VALUES](#4)\n",
    "* [4.SEPERATE THE CATEGORICAL AND NUMERICAL(DISCRETE AND CONTINEOUS) FEATURES.](#4)\n",
    "* [5.LET THE EDA COMMENCE](#5)\n",
    "\n"
   ]
  },
  {
   "cell_type": "markdown",
   "id": "75d30859",
   "metadata": {
    "papermill": {
     "duration": 0.053089,
     "end_time": "2022-01-21T14:05:30.650512",
     "exception": false,
     "start_time": "2022-01-21T14:05:30.597423",
     "status": "completed"
    },
    "tags": []
   },
   "source": [
    "***Also check out my other notebooks:***\n",
    "\n",
    "[1.FIFA19_EDA](http://www.kaggle.com/shreyasgangopadhyay/fifa19-eda)\n",
    "\n",
    "[2.Why do students get the marks that they do](http://www.kaggle.com/shreyasgangopadhyay/why-do-students-get-the-marks-that-they-do)"
   ]
  },
  {
   "cell_type": "markdown",
   "id": "ac5d3fa6",
   "metadata": {
    "papermill": {
     "duration": 0.05634,
     "end_time": "2022-01-21T14:05:30.761914",
     "exception": false,
     "start_time": "2022-01-21T14:05:30.705574",
     "status": "completed"
    },
    "tags": []
   },
   "source": []
  },
  {
   "cell_type": "markdown",
   "id": "7ca22c03",
   "metadata": {
    "papermill": {
     "duration": 0.052098,
     "end_time": "2022-01-21T14:05:30.865816",
     "exception": false,
     "start_time": "2022-01-21T14:05:30.813718",
     "status": "completed"
    },
    "tags": []
   },
   "source": [
    "# ***1.Importing the Libraries***"
   ]
  },
  {
   "cell_type": "code",
   "execution_count": 2,
   "id": "7cf47b5e",
   "metadata": {
    "execution": {
     "iopub.execute_input": "2022-01-21T14:05:30.976482Z",
     "iopub.status.busy": "2022-01-21T14:05:30.975750Z",
     "iopub.status.idle": "2022-01-21T14:05:32.001164Z",
     "shell.execute_reply": "2022-01-21T14:05:32.000532Z",
     "shell.execute_reply.started": "2022-01-21T11:56:34.864709Z"
    },
    "papermill": {
     "duration": 1.083817,
     "end_time": "2022-01-21T14:05:32.001325",
     "exception": false,
     "start_time": "2022-01-21T14:05:30.917508",
     "status": "completed"
    },
    "tags": []
   },
   "outputs": [],
   "source": [
    "import numpy as np\n",
    "import pandas as pd\n",
    "import matplotlib.pyplot as plt\n",
    "import seaborn as sns"
   ]
  },
  {
   "cell_type": "markdown",
   "id": "ce390228",
   "metadata": {
    "papermill": {
     "duration": 0.051312,
     "end_time": "2022-01-21T14:05:32.106046",
     "exception": false,
     "start_time": "2022-01-21T14:05:32.054734",
     "status": "completed"
    },
    "tags": []
   },
   "source": []
  },
  {
   "cell_type": "code",
   "execution_count": 3,
   "id": "6fa787f4",
   "metadata": {
    "execution": {
     "iopub.execute_input": "2022-01-21T14:05:32.210726Z",
     "iopub.status.busy": "2022-01-21T14:05:32.208367Z",
     "iopub.status.idle": "2022-01-21T14:05:32.258321Z",
     "shell.execute_reply": "2022-01-21T14:05:32.258927Z",
     "shell.execute_reply.started": "2022-01-21T11:56:36.046693Z"
    },
    "papermill": {
     "duration": 0.103362,
     "end_time": "2022-01-21T14:05:32.259124",
     "exception": false,
     "start_time": "2022-01-21T14:05:32.155762",
     "status": "completed"
    },
    "tags": []
   },
   "outputs": [
    {
     "data": {
      "text/html": [
       "<div>\n",
       "<style scoped>\n",
       "    .dataframe tbody tr th:only-of-type {\n",
       "        vertical-align: middle;\n",
       "    }\n",
       "\n",
       "    .dataframe tbody tr th {\n",
       "        vertical-align: top;\n",
       "    }\n",
       "\n",
       "    .dataframe thead th {\n",
       "        text-align: right;\n",
       "    }\n",
       "</style>\n",
       "<table border=\"1\" class=\"dataframe\">\n",
       "  <thead>\n",
       "    <tr style=\"text-align: right;\">\n",
       "      <th></th>\n",
       "      <th>Age</th>\n",
       "      <th>Sex</th>\n",
       "      <th>ChestPainType</th>\n",
       "      <th>RestingBP</th>\n",
       "      <th>Cholesterol</th>\n",
       "      <th>FastingBS</th>\n",
       "      <th>RestingECG</th>\n",
       "      <th>MaxHR</th>\n",
       "      <th>ExerciseAngina</th>\n",
       "      <th>Oldpeak</th>\n",
       "      <th>ST_Slope</th>\n",
       "      <th>HeartDisease</th>\n",
       "    </tr>\n",
       "  </thead>\n",
       "  <tbody>\n",
       "    <tr>\n",
       "      <th>0</th>\n",
       "      <td>40</td>\n",
       "      <td>M</td>\n",
       "      <td>ATA</td>\n",
       "      <td>140</td>\n",
       "      <td>289</td>\n",
       "      <td>0</td>\n",
       "      <td>Normal</td>\n",
       "      <td>172</td>\n",
       "      <td>N</td>\n",
       "      <td>0.0</td>\n",
       "      <td>Up</td>\n",
       "      <td>0</td>\n",
       "    </tr>\n",
       "    <tr>\n",
       "      <th>1</th>\n",
       "      <td>49</td>\n",
       "      <td>F</td>\n",
       "      <td>NAP</td>\n",
       "      <td>160</td>\n",
       "      <td>180</td>\n",
       "      <td>0</td>\n",
       "      <td>Normal</td>\n",
       "      <td>156</td>\n",
       "      <td>N</td>\n",
       "      <td>1.0</td>\n",
       "      <td>Flat</td>\n",
       "      <td>1</td>\n",
       "    </tr>\n",
       "    <tr>\n",
       "      <th>2</th>\n",
       "      <td>37</td>\n",
       "      <td>M</td>\n",
       "      <td>ATA</td>\n",
       "      <td>130</td>\n",
       "      <td>283</td>\n",
       "      <td>0</td>\n",
       "      <td>ST</td>\n",
       "      <td>98</td>\n",
       "      <td>N</td>\n",
       "      <td>0.0</td>\n",
       "      <td>Up</td>\n",
       "      <td>0</td>\n",
       "    </tr>\n",
       "    <tr>\n",
       "      <th>3</th>\n",
       "      <td>48</td>\n",
       "      <td>F</td>\n",
       "      <td>ASY</td>\n",
       "      <td>138</td>\n",
       "      <td>214</td>\n",
       "      <td>0</td>\n",
       "      <td>Normal</td>\n",
       "      <td>108</td>\n",
       "      <td>Y</td>\n",
       "      <td>1.5</td>\n",
       "      <td>Flat</td>\n",
       "      <td>1</td>\n",
       "    </tr>\n",
       "    <tr>\n",
       "      <th>4</th>\n",
       "      <td>54</td>\n",
       "      <td>M</td>\n",
       "      <td>NAP</td>\n",
       "      <td>150</td>\n",
       "      <td>195</td>\n",
       "      <td>0</td>\n",
       "      <td>Normal</td>\n",
       "      <td>122</td>\n",
       "      <td>N</td>\n",
       "      <td>0.0</td>\n",
       "      <td>Up</td>\n",
       "      <td>0</td>\n",
       "    </tr>\n",
       "  </tbody>\n",
       "</table>\n",
       "</div>"
      ],
      "text/plain": [
       "   Age Sex ChestPainType  RestingBP  Cholesterol  FastingBS RestingECG  MaxHR  \\\n",
       "0   40   M           ATA        140          289          0     Normal    172   \n",
       "1   49   F           NAP        160          180          0     Normal    156   \n",
       "2   37   M           ATA        130          283          0         ST     98   \n",
       "3   48   F           ASY        138          214          0     Normal    108   \n",
       "4   54   M           NAP        150          195          0     Normal    122   \n",
       "\n",
       "  ExerciseAngina  Oldpeak ST_Slope  HeartDisease  \n",
       "0              N      0.0       Up             0  \n",
       "1              N      1.0     Flat             1  \n",
       "2              N      0.0       Up             0  \n",
       "3              Y      1.5     Flat             1  \n",
       "4              N      0.0       Up             0  "
      ]
     },
     "execution_count": 3,
     "metadata": {},
     "output_type": "execute_result"
    }
   ],
   "source": [
    "#loading the dataset\n",
    "df=pd.read_csv('../input/heart-failure-prediction/heart.csv')\n",
    "df.head()"
   ]
  },
  {
   "cell_type": "markdown",
   "id": "88c7adb7",
   "metadata": {
    "papermill": {
     "duration": 0.050676,
     "end_time": "2022-01-21T14:05:32.360563",
     "exception": false,
     "start_time": "2022-01-21T14:05:32.309887",
     "status": "completed"
    },
    "tags": []
   },
   "source": [
    "# ***2.Basic Information about the dataset***"
   ]
  },
  {
   "cell_type": "code",
   "execution_count": 4,
   "id": "01802740",
   "metadata": {
    "execution": {
     "iopub.execute_input": "2022-01-21T14:05:32.467863Z",
     "iopub.status.busy": "2022-01-21T14:05:32.467058Z",
     "iopub.status.idle": "2022-01-21T14:05:32.469932Z",
     "shell.execute_reply": "2022-01-21T14:05:32.470597Z",
     "shell.execute_reply.started": "2022-01-21T11:56:36.095862Z"
    },
    "papermill": {
     "duration": 0.060031,
     "end_time": "2022-01-21T14:05:32.470786",
     "exception": false,
     "start_time": "2022-01-21T14:05:32.410755",
     "status": "completed"
    },
    "tags": []
   },
   "outputs": [
    {
     "data": {
      "text/plain": [
       "(918, 12)"
      ]
     },
     "execution_count": 4,
     "metadata": {},
     "output_type": "execute_result"
    }
   ],
   "source": [
    "df.shape"
   ]
  },
  {
   "cell_type": "markdown",
   "id": "5259ecd7",
   "metadata": {
    "papermill": {
     "duration": 0.050451,
     "end_time": "2022-01-21T14:05:32.571497",
     "exception": false,
     "start_time": "2022-01-21T14:05:32.521046",
     "status": "completed"
    },
    "tags": []
   },
   "source": [
    "<p style=\"color:green;font-size:18px;\">So the dataset has 918 rows and 12 columns</p>"
   ]
  },
  {
   "cell_type": "code",
   "execution_count": 5,
   "id": "ccf35d86",
   "metadata": {
    "execution": {
     "iopub.execute_input": "2022-01-21T14:05:32.676958Z",
     "iopub.status.busy": "2022-01-21T14:05:32.676258Z",
     "iopub.status.idle": "2022-01-21T14:05:32.702486Z",
     "shell.execute_reply": "2022-01-21T14:05:32.703484Z",
     "shell.execute_reply.started": "2022-01-21T11:56:36.105645Z"
    },
    "papermill": {
     "duration": 0.081455,
     "end_time": "2022-01-21T14:05:32.703756",
     "exception": false,
     "start_time": "2022-01-21T14:05:32.622301",
     "status": "completed"
    },
    "tags": []
   },
   "outputs": [
    {
     "name": "stdout",
     "output_type": "stream",
     "text": [
      "<class 'pandas.core.frame.DataFrame'>\n",
      "RangeIndex: 918 entries, 0 to 917\n",
      "Data columns (total 12 columns):\n",
      " #   Column          Non-Null Count  Dtype  \n",
      "---  ------          --------------  -----  \n",
      " 0   Age             918 non-null    int64  \n",
      " 1   Sex             918 non-null    object \n",
      " 2   ChestPainType   918 non-null    object \n",
      " 3   RestingBP       918 non-null    int64  \n",
      " 4   Cholesterol     918 non-null    int64  \n",
      " 5   FastingBS       918 non-null    int64  \n",
      " 6   RestingECG      918 non-null    object \n",
      " 7   MaxHR           918 non-null    int64  \n",
      " 8   ExerciseAngina  918 non-null    object \n",
      " 9   Oldpeak         918 non-null    float64\n",
      " 10  ST_Slope        918 non-null    object \n",
      " 11  HeartDisease    918 non-null    int64  \n",
      "dtypes: float64(1), int64(6), object(5)\n",
      "memory usage: 86.2+ KB\n"
     ]
    }
   ],
   "source": [
    "df.info()"
   ]
  },
  {
   "cell_type": "code",
   "execution_count": 6,
   "id": "74325a16",
   "metadata": {
    "execution": {
     "iopub.execute_input": "2022-01-21T14:05:32.814529Z",
     "iopub.status.busy": "2022-01-21T14:05:32.813821Z",
     "iopub.status.idle": "2022-01-21T14:05:32.864840Z",
     "shell.execute_reply": "2022-01-21T14:05:32.864002Z",
     "shell.execute_reply.started": "2022-01-21T11:56:36.146226Z"
    },
    "papermill": {
     "duration": 0.106382,
     "end_time": "2022-01-21T14:05:32.865006",
     "exception": false,
     "start_time": "2022-01-21T14:05:32.758624",
     "status": "completed"
    },
    "tags": []
   },
   "outputs": [
    {
     "data": {
      "text/html": [
       "<div>\n",
       "<style scoped>\n",
       "    .dataframe tbody tr th:only-of-type {\n",
       "        vertical-align: middle;\n",
       "    }\n",
       "\n",
       "    .dataframe tbody tr th {\n",
       "        vertical-align: top;\n",
       "    }\n",
       "\n",
       "    .dataframe thead th {\n",
       "        text-align: right;\n",
       "    }\n",
       "</style>\n",
       "<table border=\"1\" class=\"dataframe\">\n",
       "  <thead>\n",
       "    <tr style=\"text-align: right;\">\n",
       "      <th></th>\n",
       "      <th>Age</th>\n",
       "      <th>Sex</th>\n",
       "      <th>ChestPainType</th>\n",
       "      <th>RestingBP</th>\n",
       "      <th>Cholesterol</th>\n",
       "      <th>FastingBS</th>\n",
       "      <th>RestingECG</th>\n",
       "      <th>MaxHR</th>\n",
       "      <th>ExerciseAngina</th>\n",
       "      <th>Oldpeak</th>\n",
       "      <th>ST_Slope</th>\n",
       "      <th>HeartDisease</th>\n",
       "    </tr>\n",
       "  </thead>\n",
       "  <tbody>\n",
       "    <tr>\n",
       "      <th>count</th>\n",
       "      <td>918.000000</td>\n",
       "      <td>918</td>\n",
       "      <td>918</td>\n",
       "      <td>918.000000</td>\n",
       "      <td>918.000000</td>\n",
       "      <td>918.000000</td>\n",
       "      <td>918</td>\n",
       "      <td>918.000000</td>\n",
       "      <td>918</td>\n",
       "      <td>918.000000</td>\n",
       "      <td>918</td>\n",
       "      <td>918.000000</td>\n",
       "    </tr>\n",
       "    <tr>\n",
       "      <th>unique</th>\n",
       "      <td>NaN</td>\n",
       "      <td>2</td>\n",
       "      <td>4</td>\n",
       "      <td>NaN</td>\n",
       "      <td>NaN</td>\n",
       "      <td>NaN</td>\n",
       "      <td>3</td>\n",
       "      <td>NaN</td>\n",
       "      <td>2</td>\n",
       "      <td>NaN</td>\n",
       "      <td>3</td>\n",
       "      <td>NaN</td>\n",
       "    </tr>\n",
       "    <tr>\n",
       "      <th>top</th>\n",
       "      <td>NaN</td>\n",
       "      <td>M</td>\n",
       "      <td>ASY</td>\n",
       "      <td>NaN</td>\n",
       "      <td>NaN</td>\n",
       "      <td>NaN</td>\n",
       "      <td>Normal</td>\n",
       "      <td>NaN</td>\n",
       "      <td>N</td>\n",
       "      <td>NaN</td>\n",
       "      <td>Flat</td>\n",
       "      <td>NaN</td>\n",
       "    </tr>\n",
       "    <tr>\n",
       "      <th>freq</th>\n",
       "      <td>NaN</td>\n",
       "      <td>725</td>\n",
       "      <td>496</td>\n",
       "      <td>NaN</td>\n",
       "      <td>NaN</td>\n",
       "      <td>NaN</td>\n",
       "      <td>552</td>\n",
       "      <td>NaN</td>\n",
       "      <td>547</td>\n",
       "      <td>NaN</td>\n",
       "      <td>460</td>\n",
       "      <td>NaN</td>\n",
       "    </tr>\n",
       "    <tr>\n",
       "      <th>mean</th>\n",
       "      <td>53.510893</td>\n",
       "      <td>NaN</td>\n",
       "      <td>NaN</td>\n",
       "      <td>132.396514</td>\n",
       "      <td>198.799564</td>\n",
       "      <td>0.233115</td>\n",
       "      <td>NaN</td>\n",
       "      <td>136.809368</td>\n",
       "      <td>NaN</td>\n",
       "      <td>0.887364</td>\n",
       "      <td>NaN</td>\n",
       "      <td>0.553377</td>\n",
       "    </tr>\n",
       "    <tr>\n",
       "      <th>std</th>\n",
       "      <td>9.432617</td>\n",
       "      <td>NaN</td>\n",
       "      <td>NaN</td>\n",
       "      <td>18.514154</td>\n",
       "      <td>109.384145</td>\n",
       "      <td>0.423046</td>\n",
       "      <td>NaN</td>\n",
       "      <td>25.460334</td>\n",
       "      <td>NaN</td>\n",
       "      <td>1.066570</td>\n",
       "      <td>NaN</td>\n",
       "      <td>0.497414</td>\n",
       "    </tr>\n",
       "    <tr>\n",
       "      <th>min</th>\n",
       "      <td>28.000000</td>\n",
       "      <td>NaN</td>\n",
       "      <td>NaN</td>\n",
       "      <td>0.000000</td>\n",
       "      <td>0.000000</td>\n",
       "      <td>0.000000</td>\n",
       "      <td>NaN</td>\n",
       "      <td>60.000000</td>\n",
       "      <td>NaN</td>\n",
       "      <td>-2.600000</td>\n",
       "      <td>NaN</td>\n",
       "      <td>0.000000</td>\n",
       "    </tr>\n",
       "    <tr>\n",
       "      <th>25%</th>\n",
       "      <td>47.000000</td>\n",
       "      <td>NaN</td>\n",
       "      <td>NaN</td>\n",
       "      <td>120.000000</td>\n",
       "      <td>173.250000</td>\n",
       "      <td>0.000000</td>\n",
       "      <td>NaN</td>\n",
       "      <td>120.000000</td>\n",
       "      <td>NaN</td>\n",
       "      <td>0.000000</td>\n",
       "      <td>NaN</td>\n",
       "      <td>0.000000</td>\n",
       "    </tr>\n",
       "    <tr>\n",
       "      <th>50%</th>\n",
       "      <td>54.000000</td>\n",
       "      <td>NaN</td>\n",
       "      <td>NaN</td>\n",
       "      <td>130.000000</td>\n",
       "      <td>223.000000</td>\n",
       "      <td>0.000000</td>\n",
       "      <td>NaN</td>\n",
       "      <td>138.000000</td>\n",
       "      <td>NaN</td>\n",
       "      <td>0.600000</td>\n",
       "      <td>NaN</td>\n",
       "      <td>1.000000</td>\n",
       "    </tr>\n",
       "    <tr>\n",
       "      <th>75%</th>\n",
       "      <td>60.000000</td>\n",
       "      <td>NaN</td>\n",
       "      <td>NaN</td>\n",
       "      <td>140.000000</td>\n",
       "      <td>267.000000</td>\n",
       "      <td>0.000000</td>\n",
       "      <td>NaN</td>\n",
       "      <td>156.000000</td>\n",
       "      <td>NaN</td>\n",
       "      <td>1.500000</td>\n",
       "      <td>NaN</td>\n",
       "      <td>1.000000</td>\n",
       "    </tr>\n",
       "    <tr>\n",
       "      <th>max</th>\n",
       "      <td>77.000000</td>\n",
       "      <td>NaN</td>\n",
       "      <td>NaN</td>\n",
       "      <td>200.000000</td>\n",
       "      <td>603.000000</td>\n",
       "      <td>1.000000</td>\n",
       "      <td>NaN</td>\n",
       "      <td>202.000000</td>\n",
       "      <td>NaN</td>\n",
       "      <td>6.200000</td>\n",
       "      <td>NaN</td>\n",
       "      <td>1.000000</td>\n",
       "    </tr>\n",
       "  </tbody>\n",
       "</table>\n",
       "</div>"
      ],
      "text/plain": [
       "               Age  Sex ChestPainType   RestingBP  Cholesterol   FastingBS  \\\n",
       "count   918.000000  918           918  918.000000   918.000000  918.000000   \n",
       "unique         NaN    2             4         NaN          NaN         NaN   \n",
       "top            NaN    M           ASY         NaN          NaN         NaN   \n",
       "freq           NaN  725           496         NaN          NaN         NaN   \n",
       "mean     53.510893  NaN           NaN  132.396514   198.799564    0.233115   \n",
       "std       9.432617  NaN           NaN   18.514154   109.384145    0.423046   \n",
       "min      28.000000  NaN           NaN    0.000000     0.000000    0.000000   \n",
       "25%      47.000000  NaN           NaN  120.000000   173.250000    0.000000   \n",
       "50%      54.000000  NaN           NaN  130.000000   223.000000    0.000000   \n",
       "75%      60.000000  NaN           NaN  140.000000   267.000000    0.000000   \n",
       "max      77.000000  NaN           NaN  200.000000   603.000000    1.000000   \n",
       "\n",
       "       RestingECG       MaxHR ExerciseAngina     Oldpeak ST_Slope  \\\n",
       "count         918  918.000000            918  918.000000      918   \n",
       "unique          3         NaN              2         NaN        3   \n",
       "top        Normal         NaN              N         NaN     Flat   \n",
       "freq          552         NaN            547         NaN      460   \n",
       "mean          NaN  136.809368            NaN    0.887364      NaN   \n",
       "std           NaN   25.460334            NaN    1.066570      NaN   \n",
       "min           NaN   60.000000            NaN   -2.600000      NaN   \n",
       "25%           NaN  120.000000            NaN    0.000000      NaN   \n",
       "50%           NaN  138.000000            NaN    0.600000      NaN   \n",
       "75%           NaN  156.000000            NaN    1.500000      NaN   \n",
       "max           NaN  202.000000            NaN    6.200000      NaN   \n",
       "\n",
       "        HeartDisease  \n",
       "count     918.000000  \n",
       "unique           NaN  \n",
       "top              NaN  \n",
       "freq             NaN  \n",
       "mean        0.553377  \n",
       "std         0.497414  \n",
       "min         0.000000  \n",
       "25%         0.000000  \n",
       "50%         1.000000  \n",
       "75%         1.000000  \n",
       "max         1.000000  "
      ]
     },
     "execution_count": 6,
     "metadata": {},
     "output_type": "execute_result"
    }
   ],
   "source": [
    "df.describe(include='all')"
   ]
  },
  {
   "cell_type": "markdown",
   "id": "d7d0f449",
   "metadata": {
    "papermill": {
     "duration": 0.051613,
     "end_time": "2022-01-21T14:05:32.970328",
     "exception": false,
     "start_time": "2022-01-21T14:05:32.918715",
     "status": "completed"
    },
    "tags": []
   },
   "source": [
    "# ***3.Check for null values***"
   ]
  },
  {
   "cell_type": "markdown",
   "id": "d54d8e4c",
   "metadata": {
    "papermill": {
     "duration": 0.052233,
     "end_time": "2022-01-21T14:05:33.074570",
     "exception": false,
     "start_time": "2022-01-21T14:05:33.022337",
     "status": "completed"
    },
    "tags": []
   },
   "source": [
    "***This is an very important step for both EDA as well as data modelling.***"
   ]
  },
  {
   "cell_type": "code",
   "execution_count": 7,
   "id": "991c6bd8",
   "metadata": {
    "execution": {
     "iopub.execute_input": "2022-01-21T14:05:33.183363Z",
     "iopub.status.busy": "2022-01-21T14:05:33.182690Z",
     "iopub.status.idle": "2022-01-21T14:05:33.190350Z",
     "shell.execute_reply": "2022-01-21T14:05:33.189805Z",
     "shell.execute_reply.started": "2022-01-21T11:56:36.199765Z"
    },
    "papermill": {
     "duration": 0.064266,
     "end_time": "2022-01-21T14:05:33.190541",
     "exception": false,
     "start_time": "2022-01-21T14:05:33.126275",
     "status": "completed"
    },
    "tags": []
   },
   "outputs": [
    {
     "data": {
      "text/plain": [
       "Age               0\n",
       "Sex               0\n",
       "ChestPainType     0\n",
       "RestingBP         0\n",
       "Cholesterol       0\n",
       "FastingBS         0\n",
       "RestingECG        0\n",
       "MaxHR             0\n",
       "ExerciseAngina    0\n",
       "Oldpeak           0\n",
       "ST_Slope          0\n",
       "HeartDisease      0\n",
       "dtype: int64"
      ]
     },
     "execution_count": 7,
     "metadata": {},
     "output_type": "execute_result"
    }
   ],
   "source": [
    "df.isnull().sum()"
   ]
  },
  {
   "cell_type": "markdown",
   "id": "c0fb211c",
   "metadata": {
    "papermill": {
     "duration": 0.053908,
     "end_time": "2022-01-21T14:05:33.296332",
     "exception": false,
     "start_time": "2022-01-21T14:05:33.242424",
     "status": "completed"
    },
    "tags": []
   },
   "source": [
    "***Phew!!!There are no null values.***"
   ]
  },
  {
   "cell_type": "code",
   "execution_count": 8,
   "id": "0e63c7e6",
   "metadata": {
    "execution": {
     "iopub.execute_input": "2022-01-21T14:05:33.408893Z",
     "iopub.status.busy": "2022-01-21T14:05:33.406894Z",
     "iopub.status.idle": "2022-01-21T14:05:33.424945Z",
     "shell.execute_reply": "2022-01-21T14:05:33.425548Z",
     "shell.execute_reply.started": "2022-01-21T11:56:36.21444Z"
    },
    "papermill": {
     "duration": 0.075482,
     "end_time": "2022-01-21T14:05:33.425745",
     "exception": false,
     "start_time": "2022-01-21T14:05:33.350263",
     "status": "completed"
    },
    "tags": []
   },
   "outputs": [
    {
     "data": {
      "text/html": [
       "<div>\n",
       "<style scoped>\n",
       "    .dataframe tbody tr th:only-of-type {\n",
       "        vertical-align: middle;\n",
       "    }\n",
       "\n",
       "    .dataframe tbody tr th {\n",
       "        vertical-align: top;\n",
       "    }\n",
       "\n",
       "    .dataframe thead th {\n",
       "        text-align: right;\n",
       "    }\n",
       "</style>\n",
       "<table border=\"1\" class=\"dataframe\">\n",
       "  <thead>\n",
       "    <tr style=\"text-align: right;\">\n",
       "      <th></th>\n",
       "      <th>Age</th>\n",
       "      <th>Sex</th>\n",
       "      <th>ChestPainType</th>\n",
       "      <th>RestingBP</th>\n",
       "      <th>Cholesterol</th>\n",
       "      <th>FastingBS</th>\n",
       "      <th>RestingECG</th>\n",
       "      <th>MaxHR</th>\n",
       "      <th>ExerciseAngina</th>\n",
       "      <th>Oldpeak</th>\n",
       "      <th>ST_Slope</th>\n",
       "      <th>HeartDisease</th>\n",
       "    </tr>\n",
       "  </thead>\n",
       "  <tbody>\n",
       "    <tr>\n",
       "      <th>1</th>\n",
       "      <td>49</td>\n",
       "      <td>F</td>\n",
       "      <td>NAP</td>\n",
       "      <td>160</td>\n",
       "      <td>180</td>\n",
       "      <td>0</td>\n",
       "      <td>Normal</td>\n",
       "      <td>156</td>\n",
       "      <td>N</td>\n",
       "      <td>1.0</td>\n",
       "      <td>Flat</td>\n",
       "      <td>1</td>\n",
       "    </tr>\n",
       "    <tr>\n",
       "      <th>3</th>\n",
       "      <td>48</td>\n",
       "      <td>F</td>\n",
       "      <td>ASY</td>\n",
       "      <td>138</td>\n",
       "      <td>214</td>\n",
       "      <td>0</td>\n",
       "      <td>Normal</td>\n",
       "      <td>108</td>\n",
       "      <td>Y</td>\n",
       "      <td>1.5</td>\n",
       "      <td>Flat</td>\n",
       "      <td>1</td>\n",
       "    </tr>\n",
       "    <tr>\n",
       "      <th>8</th>\n",
       "      <td>37</td>\n",
       "      <td>M</td>\n",
       "      <td>ASY</td>\n",
       "      <td>140</td>\n",
       "      <td>207</td>\n",
       "      <td>0</td>\n",
       "      <td>Normal</td>\n",
       "      <td>130</td>\n",
       "      <td>Y</td>\n",
       "      <td>1.5</td>\n",
       "      <td>Flat</td>\n",
       "      <td>1</td>\n",
       "    </tr>\n",
       "    <tr>\n",
       "      <th>11</th>\n",
       "      <td>58</td>\n",
       "      <td>M</td>\n",
       "      <td>ATA</td>\n",
       "      <td>136</td>\n",
       "      <td>164</td>\n",
       "      <td>0</td>\n",
       "      <td>ST</td>\n",
       "      <td>99</td>\n",
       "      <td>Y</td>\n",
       "      <td>2.0</td>\n",
       "      <td>Flat</td>\n",
       "      <td>1</td>\n",
       "    </tr>\n",
       "    <tr>\n",
       "      <th>13</th>\n",
       "      <td>49</td>\n",
       "      <td>M</td>\n",
       "      <td>ASY</td>\n",
       "      <td>140</td>\n",
       "      <td>234</td>\n",
       "      <td>0</td>\n",
       "      <td>Normal</td>\n",
       "      <td>140</td>\n",
       "      <td>Y</td>\n",
       "      <td>1.0</td>\n",
       "      <td>Flat</td>\n",
       "      <td>1</td>\n",
       "    </tr>\n",
       "  </tbody>\n",
       "</table>\n",
       "</div>"
      ],
      "text/plain": [
       "    Age Sex ChestPainType  RestingBP  Cholesterol  FastingBS RestingECG  \\\n",
       "1    49   F           NAP        160          180          0     Normal   \n",
       "3    48   F           ASY        138          214          0     Normal   \n",
       "8    37   M           ASY        140          207          0     Normal   \n",
       "11   58   M           ATA        136          164          0         ST   \n",
       "13   49   M           ASY        140          234          0     Normal   \n",
       "\n",
       "    MaxHR ExerciseAngina  Oldpeak ST_Slope  HeartDisease  \n",
       "1     156              N      1.0     Flat             1  \n",
       "3     108              Y      1.5     Flat             1  \n",
       "8     130              Y      1.5     Flat             1  \n",
       "11     99              Y      2.0     Flat             1  \n",
       "13    140              Y      1.0     Flat             1  "
      ]
     },
     "execution_count": 8,
     "metadata": {},
     "output_type": "execute_result"
    }
   ],
   "source": [
    "dk=df[(df['HeartDisease']==1)]\n",
    "dk.head()"
   ]
  },
  {
   "cell_type": "markdown",
   "id": "3f03703d",
   "metadata": {
    "papermill": {
     "duration": 0.051946,
     "end_time": "2022-01-21T14:05:33.530030",
     "exception": false,
     "start_time": "2022-01-21T14:05:33.478084",
     "status": "completed"
    },
    "tags": []
   },
   "source": [
    "# ***4.Seperate the categorical,numerical(discrete and contineous)features.***"
   ]
  },
  {
   "cell_type": "markdown",
   "id": "aec63f9a",
   "metadata": {
    "papermill": {
     "duration": 0.051906,
     "end_time": "2022-01-21T14:05:33.634209",
     "exception": false,
     "start_time": "2022-01-21T14:05:33.582303",
     "status": "completed"
    },
    "tags": []
   },
   "source": [
    "<p style=\"color:brown;font-size:20px\"><b>\n",
    "In this step we will seperate the categorical features from the non categorical features.\n",
    "We will further seperate the numerical features into discrete and contineous. Here we are assuming that a numerical feature which have more than 25 distinct values is contineous and rest are discrete.This step will facilitate our univariate analysis.</b></p>"
   ]
  },
  {
   "cell_type": "markdown",
   "id": "fcbeea84",
   "metadata": {
    "papermill": {
     "duration": 0.05206,
     "end_time": "2022-01-21T14:05:33.738685",
     "exception": false,
     "start_time": "2022-01-21T14:05:33.686625",
     "status": "completed"
    },
    "tags": []
   },
   "source": [
    "<p style=\"color:blue;font-size:16px\"><b>a.Categorical Features</b></p>"
   ]
  },
  {
   "cell_type": "markdown",
   "id": "54c1fc29",
   "metadata": {
    "papermill": {
     "duration": 0.052553,
     "end_time": "2022-01-21T14:05:33.843683",
     "exception": false,
     "start_time": "2022-01-21T14:05:33.791130",
     "status": "completed"
    },
    "tags": []
   },
   "source": [
    "***These features can take a fixed number of discrete non-numerical instances.***"
   ]
  },
  {
   "cell_type": "markdown",
   "id": "6cafaef0",
   "metadata": {
    "papermill": {
     "duration": 0.051859,
     "end_time": "2022-01-21T14:05:33.948013",
     "exception": false,
     "start_time": "2022-01-21T14:05:33.896154",
     "status": "completed"
    },
    "tags": []
   },
   "source": []
  },
  {
   "cell_type": "markdown",
   "id": "3a7d0205",
   "metadata": {
    "papermill": {
     "duration": 0.051937,
     "end_time": "2022-01-21T14:05:34.052582",
     "exception": false,
     "start_time": "2022-01-21T14:05:34.000645",
     "status": "completed"
    },
    "tags": []
   },
   "source": []
  },
  {
   "cell_type": "code",
   "execution_count": 9,
   "id": "ed6be82e",
   "metadata": {
    "execution": {
     "iopub.execute_input": "2022-01-21T14:05:34.164486Z",
     "iopub.status.busy": "2022-01-21T14:05:34.163460Z",
     "iopub.status.idle": "2022-01-21T14:05:34.167150Z",
     "shell.execute_reply": "2022-01-21T14:05:34.167825Z",
     "shell.execute_reply.started": "2022-01-21T11:56:36.244745Z"
    },
    "papermill": {
     "duration": 0.062815,
     "end_time": "2022-01-21T14:05:34.168012",
     "exception": false,
     "start_time": "2022-01-21T14:05:34.105197",
     "status": "completed"
    },
    "tags": []
   },
   "outputs": [
    {
     "data": {
      "text/plain": [
       "['Sex', 'ChestPainType', 'RestingECG', 'ExerciseAngina', 'ST_Slope']"
      ]
     },
     "execution_count": 9,
     "metadata": {},
     "output_type": "execute_result"
    }
   ],
   "source": [
    "non_numerical_data=[f for f in df.columns if df[f].dtype=='O']\n",
    "non_numerical_data"
   ]
  },
  {
   "cell_type": "markdown",
   "id": "e9519fef",
   "metadata": {
    "papermill": {
     "duration": 0.053165,
     "end_time": "2022-01-21T14:05:34.274265",
     "exception": false,
     "start_time": "2022-01-21T14:05:34.221100",
     "status": "completed"
    },
    "tags": []
   },
   "source": [
    "<p style=\"color:blue;font-size:16px\"><b>b.Numerical Features</b></p>"
   ]
  },
  {
   "cell_type": "markdown",
   "id": "e408271d",
   "metadata": {
    "papermill": {
     "duration": 0.053914,
     "end_time": "2022-01-21T14:05:34.381074",
     "exception": false,
     "start_time": "2022-01-21T14:05:34.327160",
     "status": "completed"
    },
    "tags": []
   },
   "source": []
  },
  {
   "cell_type": "code",
   "execution_count": 10,
   "id": "30afe04f",
   "metadata": {
    "execution": {
     "iopub.execute_input": "2022-01-21T14:05:34.495744Z",
     "iopub.status.busy": "2022-01-21T14:05:34.494999Z",
     "iopub.status.idle": "2022-01-21T14:05:34.497779Z",
     "shell.execute_reply": "2022-01-21T14:05:34.498332Z",
     "shell.execute_reply.started": "2022-01-21T11:56:36.25422Z"
    },
    "papermill": {
     "duration": 0.062756,
     "end_time": "2022-01-21T14:05:34.498535",
     "exception": false,
     "start_time": "2022-01-21T14:05:34.435779",
     "status": "completed"
    },
    "tags": []
   },
   "outputs": [
    {
     "data": {
      "text/plain": [
       "['Age',\n",
       " 'RestingBP',\n",
       " 'Cholesterol',\n",
       " 'FastingBS',\n",
       " 'MaxHR',\n",
       " 'Oldpeak',\n",
       " 'HeartDisease']"
      ]
     },
     "execution_count": 10,
     "metadata": {},
     "output_type": "execute_result"
    }
   ],
   "source": [
    "numerical_data=[f for f in df.columns if df[f].dtype!='O']\n",
    "numerical_data"
   ]
  },
  {
   "cell_type": "markdown",
   "id": "c6fed415",
   "metadata": {
    "papermill": {
     "duration": 0.052903,
     "end_time": "2022-01-21T14:05:34.606436",
     "exception": false,
     "start_time": "2022-01-21T14:05:34.553533",
     "status": "completed"
    },
    "tags": []
   },
   "source": [
    "<p style=\"color:blue;font-size:16px\"><b> Contineous Numerical Features</b></p>"
   ]
  },
  {
   "cell_type": "markdown",
   "id": "ae9a50e3",
   "metadata": {
    "papermill": {
     "duration": 0.053005,
     "end_time": "2022-01-21T14:05:34.712906",
     "exception": false,
     "start_time": "2022-01-21T14:05:34.659901",
     "status": "completed"
    },
    "tags": []
   },
   "source": [
    "***These features have more than 25 distinct numeric instances***"
   ]
  },
  {
   "cell_type": "code",
   "execution_count": 11,
   "id": "dd52f61c",
   "metadata": {
    "execution": {
     "iopub.execute_input": "2022-01-21T14:05:34.824356Z",
     "iopub.status.busy": "2022-01-21T14:05:34.823693Z",
     "iopub.status.idle": "2022-01-21T14:05:34.833347Z",
     "shell.execute_reply": "2022-01-21T14:05:34.832795Z",
     "shell.execute_reply.started": "2022-01-21T11:56:36.278501Z"
    },
    "papermill": {
     "duration": 0.066772,
     "end_time": "2022-01-21T14:05:34.833540",
     "exception": false,
     "start_time": "2022-01-21T14:05:34.766768",
     "status": "completed"
    },
    "tags": []
   },
   "outputs": [
    {
     "data": {
      "text/plain": [
       "['Age', 'RestingBP', 'Cholesterol', 'MaxHR', 'Oldpeak']"
      ]
     },
     "execution_count": 11,
     "metadata": {},
     "output_type": "execute_result"
    }
   ],
   "source": [
    "numerical_data_contineous=[f for f in numerical_data if df[f].nunique()>25]\n",
    "numerical_data_contineous"
   ]
  },
  {
   "cell_type": "markdown",
   "id": "df02e917",
   "metadata": {
    "papermill": {
     "duration": 0.053595,
     "end_time": "2022-01-21T14:05:34.940823",
     "exception": false,
     "start_time": "2022-01-21T14:05:34.887228",
     "status": "completed"
    },
    "tags": []
   },
   "source": [
    "<p style=\"color:blue;font-size:16px\"><b>Discrete Numerical Features</b></p>"
   ]
  },
  {
   "cell_type": "markdown",
   "id": "efcf086c",
   "metadata": {
    "papermill": {
     "duration": 0.078184,
     "end_time": "2022-01-21T14:05:35.082236",
     "exception": false,
     "start_time": "2022-01-21T14:05:35.004052",
     "status": "completed"
    },
    "tags": []
   },
   "source": [
    "***These features have less than 25 distinct numeric instances***"
   ]
  },
  {
   "cell_type": "code",
   "execution_count": 12,
   "id": "1193e960",
   "metadata": {
    "execution": {
     "iopub.execute_input": "2022-01-21T14:05:35.207912Z",
     "iopub.status.busy": "2022-01-21T14:05:35.207184Z",
     "iopub.status.idle": "2022-01-21T14:05:35.210671Z",
     "shell.execute_reply": "2022-01-21T14:05:35.211346Z",
     "shell.execute_reply.started": "2022-01-21T11:56:36.299919Z"
    },
    "papermill": {
     "duration": 0.070854,
     "end_time": "2022-01-21T14:05:35.211549",
     "exception": false,
     "start_time": "2022-01-21T14:05:35.140695",
     "status": "completed"
    },
    "tags": []
   },
   "outputs": [
    {
     "data": {
      "text/plain": [
       "['FastingBS', 'HeartDisease']"
      ]
     },
     "execution_count": 12,
     "metadata": {},
     "output_type": "execute_result"
    }
   ],
   "source": [
    "numerical_data_discrete=[f for f in numerical_data if df[f].nunique()<25]\n",
    "numerical_data_discrete"
   ]
  },
  {
   "cell_type": "markdown",
   "id": "917896f7",
   "metadata": {
    "papermill": {
     "duration": 0.057815,
     "end_time": "2022-01-21T14:05:35.327461",
     "exception": false,
     "start_time": "2022-01-21T14:05:35.269646",
     "status": "completed"
    },
    "tags": []
   },
   "source": [
    "# ***5.Let the EDA commence***"
   ]
  },
  {
   "cell_type": "markdown",
   "id": "a83ba3ec",
   "metadata": {
    "papermill": {
     "duration": 0.055144,
     "end_time": "2022-01-21T14:05:35.451171",
     "exception": false,
     "start_time": "2022-01-21T14:05:35.396027",
     "status": "completed"
    },
    "tags": []
   },
   "source": [
    "***1.Univariate Analysis***"
   ]
  },
  {
   "cell_type": "code",
   "execution_count": 13,
   "id": "c42c1fd9",
   "metadata": {
    "execution": {
     "iopub.execute_input": "2022-01-21T14:05:35.565596Z",
     "iopub.status.busy": "2022-01-21T14:05:35.564598Z",
     "iopub.status.idle": "2022-01-21T14:05:36.449280Z",
     "shell.execute_reply": "2022-01-21T14:05:36.450360Z",
     "shell.execute_reply.started": "2022-01-21T11:56:36.320874Z"
    },
    "papermill": {
     "duration": 0.944662,
     "end_time": "2022-01-21T14:05:36.450687",
     "exception": false,
     "start_time": "2022-01-21T14:05:35.506025",
     "status": "completed"
    },
    "tags": []
   },
   "outputs": [
    {
     "data": {
      "image/png": "[encoded data removed]",
      "text/plain": [
       "<Figure size 432x288 with 1 Axes>"
      ]
     },
     "metadata": {
      "needs_background": "light"
     },
     "output_type": "display_data"
    },
    {
     "data": {
      "image/png": "[encoded data removed]",
      "text/plain": [
       "<Figure size 432x288 with 1 Axes>"
      ]
     },
     "metadata": {
      "needs_background": "light"
     },
     "output_type": "display_data"
    },
    {
     "data": {
      "image/png": "[encoded data removed]",
      "text/plain": [
       "<Figure size 432x288 with 1 Axes>"
      ]
     },
     "metadata": {
      "needs_background": "light"
     },
     "output_type": "display_data"
    },
    {
     "data": {
      "image/png": "[encoded data removed]",
      "text/plain": [
       "<Figure size 432x288 with 1 Axes>"
      ]
     },
     "metadata": {
      "needs_background": "light"
     },
     "output_type": "display_data"
    },
    {
     "data": {
      "image/png": "[encoded data removed]",
      "text/plain": [
       "<Figure size 432x288 with 1 Axes>"
      ]
     },
     "metadata": {
      "needs_background": "light"
     },
     "output_type": "display_data"
    }
   ],
   "source": [
    "for f in non_numerical_data:\n",
    "    sns.countplot(x=f,data=dk)\n",
    "    plt.title(f+' count plot')\n",
    "    plt.show()"
   ]
  },
  {
   "cell_type": "markdown",
   "id": "7a63ddc7",
   "metadata": {
    "papermill": {
     "duration": 0.056954,
     "end_time": "2022-01-21T14:05:36.567775",
     "exception": false,
     "start_time": "2022-01-21T14:05:36.510821",
     "status": "completed"
    },
    "tags": []
   },
   "source": [
    "<p style=\"color:brown;font-size:20px\">\n",
    "Let us go through the observations we made in this portion.\n",
    "\n",
    "1.The number of men suffering from heartDisease is significantly larger than the number of women.\n",
    "\n",
    "2.The chest pain type for people suffering with heartDisease is mostly ASY\n",
    "\n",
    "3.The RestingECG for most people suffering with heartDisease is Normal\n",
    "\n",
    "4.Most people had exercise induced [Angina](http://www.mayoclinic.org/diseases-conditions/angina/symptoms-causes/syc-20369373).\n",
    "\n",
    "5.The ST slope for most people suffering with heartDisease is flat\n",
    "\n"
   ]
  },
  {
   "cell_type": "code",
   "execution_count": 14,
   "id": "f0cab638",
   "metadata": {
    "execution": {
     "iopub.execute_input": "2022-01-21T14:05:36.685820Z",
     "iopub.status.busy": "2022-01-21T14:05:36.685098Z",
     "iopub.status.idle": "2022-01-21T14:05:38.781255Z",
     "shell.execute_reply": "2022-01-21T14:05:38.781868Z",
     "shell.execute_reply.started": "2022-01-21T11:56:37.25663Z"
    },
    "papermill": {
     "duration": 2.156969,
     "end_time": "2022-01-21T14:05:38.782076",
     "exception": false,
     "start_time": "2022-01-21T14:05:36.625107",
     "status": "completed"
    },
    "tags": []
   },
   "outputs": [
    {
     "name": "stdout",
     "output_type": "stream",
     "text": [
      "the median value for the feature Age is 57.0\n"
     ]
    },
    {
     "data": {
      "image/png": "[encoded data removed]",
      "text/plain": [
       "<Figure size 360x360 with 1 Axes>"
      ]
     },
     "metadata": {
      "needs_background": "light"
     },
     "output_type": "display_data"
    },
    {
     "name": "stdout",
     "output_type": "stream",
     "text": [
      "the median value for the feature RestingBP is 132.0\n"
     ]
    },
    {
     "data": {
      "image/png": "[encoded data removed]",
      "text/plain": [
       "<Figure size 360x360 with 1 Axes>"
      ]
     },
     "metadata": {
      "needs_background": "light"
     },
     "output_type": "display_data"
    },
    {
     "name": "stdout",
     "output_type": "stream",
     "text": [
      "the median value for the feature Cholesterol is 217.0\n"
     ]
    },
    {
     "data": {
      "image/png": "[encoded data removed]",
      "text/plain": [
       "<Figure size 360x360 with 1 Axes>"
      ]
     },
     "metadata": {
      "needs_background": "light"
     },
     "output_type": "display_data"
    },
    {
     "name": "stdout",
     "output_type": "stream",
     "text": [
      "the median value for the feature MaxHR is 126.0\n"
     ]
    },
    {
     "data": {
      "image/png": "[encoded data removed]",
      "text/plain": [
       "<Figure size 360x360 with 1 Axes>"
      ]
     },
     "metadata": {
      "needs_background": "light"
     },
     "output_type": "display_data"
    },
    {
     "name": "stdout",
     "output_type": "stream",
     "text": [
      "the median value for the feature Oldpeak is 1.2\n"
     ]
    },
    {
     "data": {
      "image/png": "[encoded data removed]",
      "text/plain": [
       "<Figure size 360x360 with 1 Axes>"
      ]
     },
     "metadata": {
      "needs_background": "light"
     },
     "output_type": "display_data"
    }
   ],
   "source": [
    "for f in numerical_data_contineous:\n",
    "    sns.displot(x=dk[f])\n",
    "    print('the median value for the feature '+f+' is',dk[f].median())\n",
    "    plt.axvline(dk[f].mean(), linestyle = '--', color = \"red\")\n",
    "    plt.axvline(dk[f].median(), linestyle = '--', color = \"yellow\")\n",
    "    plt.title(f+' distribution plot')\n",
    "    plt.show()"
   ]
  },
  {
   "cell_type": "markdown",
   "id": "25bb5c49",
   "metadata": {
    "papermill": {
     "duration": 0.064313,
     "end_time": "2022-01-21T14:05:38.911497",
     "exception": false,
     "start_time": "2022-01-21T14:05:38.847184",
     "status": "completed"
    },
    "tags": []
   },
   "source": [
    "***Note:*** **We see that there are some very low values of Cholesterol. These may be some erraneous values. So we will take a closer look at the values of Cholesterol.**"
   ]
  },
  {
   "cell_type": "code",
   "execution_count": 15,
   "id": "48fab139",
   "metadata": {
    "execution": {
     "iopub.execute_input": "2022-01-21T14:05:39.044714Z",
     "iopub.status.busy": "2022-01-21T14:05:39.043977Z",
     "iopub.status.idle": "2022-01-21T14:05:39.050860Z",
     "shell.execute_reply": "2022-01-21T14:05:39.051533Z",
     "shell.execute_reply.started": "2022-01-21T11:56:39.177142Z"
    },
    "papermill": {
     "duration": 0.074247,
     "end_time": "2022-01-21T14:05:39.051719",
     "exception": false,
     "start_time": "2022-01-21T14:05:38.977472",
     "status": "completed"
    },
    "tags": []
   },
   "outputs": [
    {
     "data": {
      "text/plain": [
       "array([  0, 100, 110, 113, 117, 123, 126, 131, 139, 142])"
      ]
     },
     "execution_count": 15,
     "metadata": {},
     "output_type": "execute_result"
    }
   ],
   "source": [
    "np.sort(dk['Cholesterol'].unique(),axis=-1,kind=None,order=None)[:10]"
   ]
  },
  {
   "cell_type": "markdown",
   "id": "73be816e",
   "metadata": {
    "papermill": {
     "duration": 0.065062,
     "end_time": "2022-01-21T14:05:39.181838",
     "exception": false,
     "start_time": "2022-01-21T14:05:39.116776",
     "status": "completed"
    },
    "tags": []
   },
   "source": [
    "***So we see that there are some tuples where Cholesterol value is 0. This is not possible. So removing these tuples are advised.***"
   ]
  },
  {
   "cell_type": "code",
   "execution_count": 16,
   "id": "0193c1f5",
   "metadata": {
    "execution": {
     "iopub.execute_input": "2022-01-21T14:05:39.316520Z",
     "iopub.status.busy": "2022-01-21T14:05:39.312949Z",
     "iopub.status.idle": "2022-01-21T14:05:39.809432Z",
     "shell.execute_reply": "2022-01-21T14:05:39.808798Z",
     "shell.execute_reply.started": "2022-01-21T11:56:39.186935Z"
    },
    "papermill": {
     "duration": 0.5639,
     "end_time": "2022-01-21T14:05:39.809603",
     "exception": false,
     "start_time": "2022-01-21T14:05:39.245703",
     "status": "completed"
    },
    "tags": []
   },
   "outputs": [
    {
     "data": {
      "image/png": "[encoded data removed]",
      "text/plain": [
       "<Figure size 432x288 with 1 Axes>"
      ]
     },
     "metadata": {
      "needs_background": "light"
     },
     "output_type": "display_data"
    },
    {
     "data": {
      "image/png": "[encoded data removed]",
      "text/plain": [
       "<Figure size 432x288 with 1 Axes>"
      ]
     },
     "metadata": {
      "needs_background": "light"
     },
     "output_type": "display_data"
    }
   ],
   "source": [
    "for f in numerical_data_discrete:\n",
    "    sns.countplot(x=f,data=dk)\n",
    "    plt.title(f+' count plot')\n",
    "    plt.show()"
   ]
  },
  {
   "cell_type": "markdown",
   "id": "7e19b773",
   "metadata": {
    "papermill": {
     "duration": 0.066719,
     "end_time": "2022-01-21T14:05:39.943056",
     "exception": false,
     "start_time": "2022-01-21T14:05:39.876337",
     "status": "completed"
    },
    "tags": []
   },
   "source": [
    "***Most people with heartDisease has low FastingBlood Sugar.***"
   ]
  },
  {
   "cell_type": "markdown",
   "id": "3be7ae95",
   "metadata": {
    "papermill": {
     "duration": 0.064909,
     "end_time": "2022-01-21T14:05:40.072894",
     "exception": false,
     "start_time": "2022-01-21T14:05:40.007985",
     "status": "completed"
    },
    "tags": []
   },
   "source": [
    "***2.Bivariate Analysis***"
   ]
  },
  {
   "cell_type": "markdown",
   "id": "31ec81ae",
   "metadata": {
    "papermill": {
     "duration": 0.064669,
     "end_time": "2022-01-21T14:05:40.203279",
     "exception": false,
     "start_time": "2022-01-21T14:05:40.138610",
     "status": "completed"
    },
    "tags": []
   },
   "source": [
    "\n",
    "<p style=\"color:brown;font-size:20px\"><b>AGE VS HEARTDISEASE COUNT:</b>Let us take a look at the which age group is most prone to HeartDisease</p>"
   ]
  },
  {
   "cell_type": "code",
   "execution_count": 17,
   "id": "50258370",
   "metadata": {
    "execution": {
     "iopub.execute_input": "2022-01-21T14:05:40.340097Z",
     "iopub.status.busy": "2022-01-21T14:05:40.339320Z",
     "iopub.status.idle": "2022-01-21T14:05:40.581398Z",
     "shell.execute_reply": "2022-01-21T14:05:40.580721Z",
     "shell.execute_reply.started": "2022-01-21T11:56:39.644107Z"
    },
    "papermill": {
     "duration": 0.311697,
     "end_time": "2022-01-21T14:05:40.581564",
     "exception": false,
     "start_time": "2022-01-21T14:05:40.269867",
     "status": "completed"
    },
    "tags": []
   },
   "outputs": [
    {
     "data": {
      "image/png": "[encoded data removed]",
      "text/plain": [
       "<Figure size 432x288 with 1 Axes>"
      ]
     },
     "metadata": {
      "needs_background": "light"
     },
     "output_type": "display_data"
    }
   ],
   "source": [
    "dt=pd.DataFrame()\n",
    "dt=df.groupby(['Age'])[['HeartDisease']].sum()\n",
    "sns.lineplot(x='Age',y='HeartDisease',data=dt)\n",
    "plt.show()\n",
    "\n"
   ]
  },
  {
   "cell_type": "markdown",
   "id": "49c8b28e",
   "metadata": {
    "papermill": {
     "duration": 0.101411,
     "end_time": "2022-01-21T14:05:40.757541",
     "exception": false,
     "start_time": "2022-01-21T14:05:40.656130",
     "status": "completed"
    },
    "tags": []
   },
   "source": [
    "<p style=\"color:brown;font-size:20px\">It seems that the people belonging in mid 50's to mid 60's are most likely to suffer from HeartDisease. Let us take a closer look to find out whther we got it right.</p>"
   ]
  },
  {
   "cell_type": "code",
   "execution_count": 18,
   "id": "50399840",
   "metadata": {
    "execution": {
     "iopub.execute_input": "2022-01-21T14:05:40.902173Z",
     "iopub.status.busy": "2022-01-21T14:05:40.901479Z",
     "iopub.status.idle": "2022-01-21T14:05:41.169447Z",
     "shell.execute_reply": "2022-01-21T14:05:41.170004Z",
     "shell.execute_reply.started": "2022-01-21T11:56:39.851193Z"
    },
    "papermill": {
     "duration": 0.34069,
     "end_time": "2022-01-21T14:05:41.170196",
     "exception": false,
     "start_time": "2022-01-21T14:05:40.829506",
     "status": "completed"
    },
    "tags": []
   },
   "outputs": [
    {
     "data": {
      "image/png": "[encoded data removed]",
      "text/plain": [
       "<Figure size 432x288 with 1 Axes>"
      ]
     },
     "metadata": {
      "needs_background": "light"
     },
     "output_type": "display_data"
    }
   ],
   "source": [
    "dt=dt.sort_values(by=['HeartDisease'],ascending=False)[:10]\n",
    "dt.plot.barh()\n",
    "plt.show()"
   ]
  },
  {
   "cell_type": "markdown",
   "id": "a85bcdb5",
   "metadata": {
    "papermill": {
     "duration": 0.066956,
     "end_time": "2022-01-21T14:05:41.304095",
     "exception": false,
     "start_time": "2022-01-21T14:05:41.237139",
     "status": "completed"
    },
    "tags": []
   },
   "source": [
    "<p style=\"color:brown;font-size:20px\">It seems that our observations were right.</p>"
   ]
  },
  {
   "cell_type": "markdown",
   "id": "ad46b2b1",
   "metadata": {
    "papermill": {
     "duration": 0.068314,
     "end_time": "2022-01-21T14:05:41.440135",
     "exception": false,
     "start_time": "2022-01-21T14:05:41.371821",
     "status": "completed"
    },
    "tags": []
   },
   "source": []
  },
  {
   "cell_type": "markdown",
   "id": "c728cc2e",
   "metadata": {
    "papermill": {
     "duration": 0.067322,
     "end_time": "2022-01-21T14:05:41.575293",
     "exception": false,
     "start_time": "2022-01-21T14:05:41.507971",
     "status": "completed"
    },
    "tags": []
   },
   "source": [
    "<p style=\"color:brown;font-size:20px\"><b>CHOLESTEROL VS RESTING BP:</b>High blood pressure (hypertension) and high cholesterol also are linked. When the arteries become hardened and narrowed with cholesterol plaque and calcium (atherosclerosis), the heart has to strain much harder to pump blood through them. As a result, blood pressure becomes abnormally high. <b>~Clevelandclinic.org</b></p>"
   ]
  },
  {
   "cell_type": "markdown",
   "id": "fb7655d9",
   "metadata": {
    "papermill": {
     "duration": 0.06697,
     "end_time": "2022-01-21T14:05:41.708995",
     "exception": false,
     "start_time": "2022-01-21T14:05:41.642025",
     "status": "completed"
    },
    "tags": []
   },
   "source": [
    "[***For the full link click here***](http://my.clevelandclinic.org/health/articles/11918-cholesterol-high-cholesterol-diseases#:~:text=High%20blood%20pressure%20(hypertension)%20and,blood%20pressure%20becomes%20abnormally%20high.)"
   ]
  },
  {
   "cell_type": "markdown",
   "id": "fb541fc1",
   "metadata": {
    "papermill": {
     "duration": 0.066646,
     "end_time": "2022-01-21T14:05:41.842763",
     "exception": false,
     "start_time": "2022-01-21T14:05:41.776117",
     "status": "completed"
    },
    "tags": []
   },
   "source": [
    "<p style=\"color:brown;font-size:20px\">Let us see whether we can establish the above mentioned observation from our data.</p>\n",
    "\n",
    "<p style=\"color:brown;font-size:22px\"><b>Note</b></p>\n",
    "<p style=\"color:brown;font-size:18px\">\n",
    "1.The upper threshold for normal level for LDL Cholesterol is 129mg/dL\n",
    "<p style=\"color:brown;font-size:18px\">\n",
    "2.The upper threshold for normal level of RestingBP is 120/80mmHg\n"
   ]
  },
  {
   "cell_type": "code",
   "execution_count": 19,
   "id": "e35e8ca9",
   "metadata": {
    "execution": {
     "iopub.execute_input": "2022-01-21T14:05:41.982492Z",
     "iopub.status.busy": "2022-01-21T14:05:41.981341Z",
     "iopub.status.idle": "2022-01-21T14:05:42.345586Z",
     "shell.execute_reply": "2022-01-21T14:05:42.346167Z",
     "shell.execute_reply.started": "2022-01-21T11:56:40.080802Z"
    },
    "papermill": {
     "duration": 0.437321,
     "end_time": "2022-01-21T14:05:42.346358",
     "exception": false,
     "start_time": "2022-01-21T14:05:41.909037",
     "status": "completed"
    },
    "tags": []
   },
   "outputs": [
    {
     "data": {
      "image/png": "[encoded data removed]",
      "text/plain": [
       "<Figure size 432x288 with 1 Axes>"
      ]
     },
     "metadata": {
      "needs_background": "light"
     },
     "output_type": "display_data"
    }
   ],
   "source": [
    "sns.scatterplot(x='Cholesterol',y='RestingBP',hue='Sex',data=dk)\n",
    "plt.axvline(129, linestyle = '--', color = \"red\") #normal level for LDL \n",
    "plt.axhline(120, linestyle = '--', color = \"red\") #normal resting BP\n",
    "plt.show()"
   ]
  },
  {
   "cell_type": "markdown",
   "id": "c155df35",
   "metadata": {
    "papermill": {
     "duration": 0.072656,
     "end_time": "2022-01-21T14:05:42.487972",
     "exception": false,
     "start_time": "2022-01-21T14:05:42.415316",
     "status": "completed"
    },
    "tags": []
   },
   "source": [
    "<p style=\"color:brown;font-size:20px\">It seems that most of the people with heartDisease has high level of both Cholesterol and Blood Pressure. Thus we can say conclude that there is a high correlation. We will also ignore the values corresponding to Cholesterol=0 as the data is erraneous </p>"
   ]
  },
  {
   "cell_type": "markdown",
   "id": "96c16f58",
   "metadata": {
    "papermill": {
     "duration": 0.06811,
     "end_time": "2022-01-21T14:05:42.625088",
     "exception": false,
     "start_time": "2022-01-21T14:05:42.556978",
     "status": "completed"
    },
    "tags": []
   },
   "source": [
    "***Thank you for going through the Notebook. Do give your feedbacks in the comment section. And do not forget to upvote if you like it.***"
   ]
  },
  {
   "cell_type": "code",
   "execution_count": null,
   "id": "8ce69150",
   "metadata": {
    "papermill": {
     "duration": 0.068646,
     "end_time": "2022-01-21T14:05:42.763888",
     "exception": false,
     "start_time": "2022-01-21T14:05:42.695242",
     "status": "completed"
    },
    "tags": []
   },
   "outputs": [],
   "source": []
  },
  {
   "cell_type": "code",
   "execution_count": null,
   "id": "9515ac78",
   "metadata": {
    "papermill": {
     "duration": 0.068677,
     "end_time": "2022-01-21T14:05:42.900955",
     "exception": false,
     "start_time": "2022-01-21T14:05:42.832278",
     "status": "completed"
    },
    "tags": []
   },
   "outputs": [],
   "source": []
  },
  {
   "cell_type": "markdown",
   "id": "69ed6439",
   "metadata": {
    "papermill": {
     "duration": 0.068051,
     "end_time": "2022-01-21T14:05:43.037721",
     "exception": false,
     "start_time": "2022-01-21T14:05:42.969670",
     "status": "completed"
    },
    "tags": []
   },
   "source": []
  },
  {
   "cell_type": "markdown",
   "id": "31865a0e",
   "metadata": {
    "papermill": {
     "duration": 0.068591,
     "end_time": "2022-01-21T14:05:43.174527",
     "exception": false,
     "start_time": "2022-01-21T14:05:43.105936",
     "status": "completed"
    },
    "tags": []
   },
   "source": []
  },
  {
   "cell_type": "markdown",
   "id": "d37461af",
   "metadata": {
    "papermill": {
     "duration": 0.069567,
     "end_time": "2022-01-21T14:05:43.313474",
     "exception": false,
     "start_time": "2022-01-21T14:05:43.243907",
     "status": "completed"
    },
    "tags": []
   },
   "source": []
  },
  {
   "cell_type": "markdown",
   "id": "26523e1b",
   "metadata": {
    "papermill": {
     "duration": 0.068317,
     "end_time": "2022-01-21T14:05:43.451286",
     "exception": false,
     "start_time": "2022-01-21T14:05:43.382969",
     "status": "completed"
    },
    "tags": []
   },
   "source": []
  },
  {
   "cell_type": "markdown",
   "id": "9682fbc1",
   "metadata": {
    "papermill": {
     "duration": 0.067553,
     "end_time": "2022-01-21T14:05:43.586805",
     "exception": false,
     "start_time": "2022-01-21T14:05:43.519252",
     "status": "completed"
    },
    "tags": []
   },
   "source": []
  },
  {
   "cell_type": "markdown",
   "id": "a453d189",
   "metadata": {
    "papermill": {
     "duration": 0.067491,
     "end_time": "2022-01-21T14:05:43.722029",
     "exception": false,
     "start_time": "2022-01-21T14:05:43.654538",
     "status": "completed"
    },
    "tags": []
   },
   "source": []
  },
  {
   "cell_type": "markdown",
   "id": "2ebafd08",
   "metadata": {
    "papermill": {
     "duration": 0.067717,
     "end_time": "2022-01-21T14:05:43.859056",
     "exception": false,
     "start_time": "2022-01-21T14:05:43.791339",
     "status": "completed"
    },
    "tags": []
   },
   "source": []
  },
  {
   "cell_type": "markdown",
   "id": "ac6c2993",
   "metadata": {
    "papermill": {
     "duration": 0.068347,
     "end_time": "2022-01-21T14:05:43.996807",
     "exception": false,
     "start_time": "2022-01-21T14:05:43.928460",
     "status": "completed"
    },
    "tags": []
   },
   "source": []
  },
  {
   "cell_type": "markdown",
   "id": "3a304b98",
   "metadata": {
    "papermill": {
     "duration": 0.068732,
     "end_time": "2022-01-21T14:05:44.133845",
     "exception": false,
     "start_time": "2022-01-21T14:05:44.065113",
     "status": "completed"
    },
    "tags": []
   },
   "source": []
  },
  {
   "cell_type": "code",
   "execution_count": null,
   "id": "78cb0932",
   "metadata": {
    "papermill": {
     "duration": 0.068146,
     "end_time": "2022-01-21T14:05:44.270473",
     "exception": false,
     "start_time": "2022-01-21T14:05:44.202327",
     "status": "completed"
    },
    "tags": []
   },
   "outputs": [],
   "source": []
  },
  {
   "cell_type": "markdown",
   "id": "9964acec",
   "metadata": {
    "papermill": {
     "duration": 0.068892,
     "end_time": "2022-01-21T14:05:44.409727",
     "exception": false,
     "start_time": "2022-01-21T14:05:44.340835",
     "status": "completed"
    },
    "tags": []
   },
   "source": [
    "<p style=\"In this notebook,I will perform Exploratory Data Analysis on the Heart Failure dataset which is a collection of five dataset. The source of the datas are a follows\n",
    "\n",
    "Cleveland: 303 observations\n",
    "Hungarian: 294 observations\n",
    "Switzerland: 123 observations\n",
    "Long Beach VA: 200 observations\n",
    "Stalog (Heart) Data Set: 270 observations\n",
    "Total: 1190 observations\n",
    "Duplicated: 272 observations"
   ]
  },
  {
   "cell_type": "markdown",
   "id": "872d8c6b",
   "metadata": {
    "papermill": {
     "duration": 0.067603,
     "end_time": "2022-01-21T14:05:44.545736",
     "exception": false,
     "start_time": "2022-01-21T14:05:44.478133",
     "status": "completed"
    },
    "tags": []
   },
   "source": []
  },
  {
   "cell_type": "markdown",
   "id": "a43564e1",
   "metadata": {
    "papermill": {
     "duration": 0.067777,
     "end_time": "2022-01-21T14:05:44.681310",
     "exception": false,
     "start_time": "2022-01-21T14:05:44.613533",
     "status": "completed"
    },
    "tags": []
   },
   "source": []
  },
  {
   "cell_type": "markdown",
   "id": "dae3d526",
   "metadata": {
    "papermill": {
     "duration": 0.067744,
     "end_time": "2022-01-21T14:05:44.817214",
     "exception": false,
     "start_time": "2022-01-21T14:05:44.749470",
     "status": "completed"
    },
    "tags": []
   },
   "source": []
  },
  {
   "cell_type": "markdown",
   "id": "f72bfa9d",
   "metadata": {
    "papermill": {
     "duration": 0.068493,
     "end_time": "2022-01-21T14:05:44.953929",
     "exception": false,
     "start_time": "2022-01-21T14:05:44.885436",
     "status": "completed"
    },
    "tags": []
   },
   "source": []
  },
  {
   "cell_type": "markdown",
   "id": "b5e76d97",
   "metadata": {
    "papermill": {
     "duration": 0.06787,
     "end_time": "2022-01-21T14:05:45.090766",
     "exception": false,
     "start_time": "2022-01-21T14:05:45.022896",
     "status": "completed"
    },
    "tags": []
   },
   "source": []
  }
 ],
 "metadata": {
  "kernelspec": {
   "display_name": "Python 3",
   "language": "python",
   "name": "python3"
  },
  "language_info": {
   "codemirror_mode": {
    "name": "ipython",
    "version": 3
   },
   "file_extension": ".py",
   "mimetype": "text/x-python",
   "name": "python",
   "nbconvert_exporter": "python",
   "pygments_lexer": "ipython3",
   "version": "3.7.12"
  },
  "papermill": {
   "default_parameters": {},
   "duration": 28.868607,
   "end_time": "2022-01-21T14:05:48.140521",
   "environment_variables": {},
   "exception": null,
   "input_path": "__notebook__.ipynb",
   "output_path": "__notebook__.ipynb",
   "parameters": {},
   "start_time": "2022-01-21T14:05:19.271914",
   "version": "2.3.3"
  }
 },
 "nbformat": 4,
 "nbformat_minor": 5
}
